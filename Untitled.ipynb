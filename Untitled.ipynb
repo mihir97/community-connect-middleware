{
 "cells": [
  {
   "cell_type": "code",
   "execution_count": 5,
   "metadata": {},
   "outputs": [],
   "source": [
    "!pip freeze > requirements.txt"
   ]
  },
  {
   "cell_type": "code",
   "execution_count": 2,
   "metadata": {},
   "outputs": [
    {
     "name": "stdout",
     "output_type": "stream",
     "text": [
      "Collecting cloudant\n",
      "  Using cached https://files.pythonhosted.org/packages/d2/40/b2e2c47eb1ef6a1ff9519dbdf916356b97dd9d14d8c8b64f43b43fc56e1a/cloudant-2.12.0-py3-none-any.whl\n",
      "Collecting requests<3.0.0,>=2.7.0 (from cloudant)\n",
      "  Downloading https://files.pythonhosted.org/packages/51/bd/23c926cd341ea6b7dd0b2a00aba99ae0f828be89d72b2190f27c11d4b7fb/requests-2.22.0-py2.py3-none-any.whl (57kB)\n",
      "Collecting idna<2.9,>=2.5 (from requests<3.0.0,>=2.7.0->cloudant)\n",
      "  Using cached https://files.pythonhosted.org/packages/14/2c/cd551d81dbe15200be1cf41cd03869a46fe7226e7450af7a6545bfc474c9/idna-2.8-py2.py3-none-any.whl\n",
      "Collecting chardet<3.1.0,>=3.0.2 (from requests<3.0.0,>=2.7.0->cloudant)\n",
      "  Using cached https://files.pythonhosted.org/packages/bc/a9/01ffebfb562e4274b6487b4bb1ddec7ca55ec7510b22e4c51f14098443b8/chardet-3.0.4-py2.py3-none-any.whl\n",
      "Collecting urllib3!=1.25.0,!=1.25.1,<1.26,>=1.21.1 (from requests<3.0.0,>=2.7.0->cloudant)\n",
      "  Downloading https://files.pythonhosted.org/packages/e6/60/247f23a7121ae632d62811ba7f273d0e58972d75e58a94d329d51550a47d/urllib3-1.25.3-py2.py3-none-any.whl (150kB)\n",
      "Requirement already satisfied: certifi>=2017.4.17 in c:\\users\\jaylohokare\\anaconda3\\envs\\sparrowmiddleware\\lib\\site-packages (from requests<3.0.0,>=2.7.0->cloudant) (2019.3.9)\n",
      "Installing collected packages: idna, chardet, urllib3, requests, cloudant\n",
      "Successfully installed chardet-3.0.4 cloudant-2.12.0 idna-2.8 requests-2.22.0 urllib3-1.25.3\n",
      "Collecting ibm_watson\n",
      "  Using cached https://files.pythonhosted.org/packages/af/82/a0a8555e37c6822bc63b6170d6f30d3681c3ec987b3ab9b8f83f9b3887a3/ibm-watson-3.0.4.tar.gz\n",
      "Requirement already satisfied: requests<3.0,>=2.0 in c:\\users\\jaylohokare\\anaconda3\\envs\\sparrowmiddleware\\lib\\site-packages (from ibm_watson) (2.22.0)\n",
      "Requirement already satisfied: python_dateutil>=2.5.3 in c:\\users\\jaylohokare\\anaconda3\\envs\\sparrowmiddleware\\lib\\site-packages (from ibm_watson) (2.8.0)\n",
      "Collecting websocket-client==0.48.0 (from ibm_watson)\n",
      "  Using cached https://files.pythonhosted.org/packages/8a/a1/72ef9aa26cfe1a75cee09fc1957e4723add9de098c15719416a1ee89386b/websocket_client-0.48.0-py2.py3-none-any.whl\n",
      "Collecting ibm_cloud_sdk_core>=0.2.0 (from ibm_watson)\n",
      "  Using cached https://files.pythonhosted.org/packages/50/61/2c197bf3898f3ef74b22adc595a15f315d8c45c5ca7586dbe93b8b947825/ibm-cloud-sdk-core-0.4.2.tar.gz\n",
      "Requirement already satisfied: chardet<3.1.0,>=3.0.2 in c:\\users\\jaylohokare\\anaconda3\\envs\\sparrowmiddleware\\lib\\site-packages (from requests<3.0,>=2.0->ibm_watson) (3.0.4)\n",
      "Requirement already satisfied: urllib3!=1.25.0,!=1.25.1,<1.26,>=1.21.1 in c:\\users\\jaylohokare\\anaconda3\\envs\\sparrowmiddleware\\lib\\site-packages (from requests<3.0,>=2.0->ibm_watson) (1.25.3)\n",
      "Requirement already satisfied: idna<2.9,>=2.5 in c:\\users\\jaylohokare\\anaconda3\\envs\\sparrowmiddleware\\lib\\site-packages (from requests<3.0,>=2.0->ibm_watson) (2.8)\n",
      "Requirement already satisfied: certifi>=2017.4.17 in c:\\users\\jaylohokare\\anaconda3\\envs\\sparrowmiddleware\\lib\\site-packages (from requests<3.0,>=2.0->ibm_watson) (2019.3.9)\n",
      "Requirement already satisfied: six>=1.5 in c:\\users\\jaylohokare\\anaconda3\\envs\\sparrowmiddleware\\lib\\site-packages (from python_dateutil>=2.5.3->ibm_watson) (1.12.0)\n",
      "Building wheels for collected packages: ibm-watson, ibm-cloud-sdk-core\n",
      "  Building wheel for ibm-watson (setup.py): started\n",
      "  Building wheel for ibm-watson (setup.py): finished with status 'done'\n",
      "  Stored in directory: C:\\Users\\JayLohokare\\AppData\\Local\\pip\\Cache\\wheels\\b0\\b4\\42\\15563549063278065c74f6fabcd9eae12666230edebbac9a66\n",
      "  Building wheel for ibm-cloud-sdk-core (setup.py): started\n",
      "  Building wheel for ibm-cloud-sdk-core (setup.py): finished with status 'done'\n",
      "  Stored in directory: C:\\Users\\JayLohokare\\AppData\\Local\\pip\\Cache\\wheels\\16\\27\\32\\7d296851e2bf81e0965e313cedd4f1bc08d3eab4eaae7c133d\n",
      "Successfully built ibm-watson ibm-cloud-sdk-core\n",
      "Installing collected packages: websocket-client, ibm-cloud-sdk-core, ibm-watson\n",
      "Successfully installed ibm-cloud-sdk-core-0.4.2 ibm-watson-3.0.4 websocket-client-0.48.0\n"
     ]
    }
   ],
   "source": [
    "!pip install cloudant\n",
    "!pip install ibm_watson"
   ]
  },
  {
   "cell_type": "code",
   "execution_count": 2,
   "metadata": {},
   "outputs": [],
   "source": [
    "import json\n",
    "import chatbot\n",
    "from datetime import datetime\n",
    "\n",
    "TYPE_USER = 'user'\n",
    "TYPE_DOCTOR = 'doctor'\n",
    "TYPE_COMMUNITY = 'community'\n",
    "IBM_RECEIVER = 'ibm_assistant'\n",
    "\n",
    "with open('config.json') as config_file:\n",
    "    config = json.load(config_file)\n",
    "    \n",
    "\n",
    "username = config[\"couch\"][\"username\"]\n",
    "api = config[\"couch\"][\"api\"]"
   ]
  },
  {
   "cell_type": "code",
   "execution_count": null,
   "metadata": {},
   "outputs": [],
   "source": []
  },
  {
   "cell_type": "code",
   "execution_count": 4,
   "metadata": {},
   "outputs": [],
   "source": [
    "from cloudant.client import Cloudant\n",
    "\n",
    "client = Cloudant.iam(username, api, connect=True)"
   ]
  },
  {
   "cell_type": "code",
   "execution_count": 5,
   "metadata": {},
   "outputs": [
    {
     "name": "stdout",
     "output_type": "stream",
     "text": [
      "['sessions', 'users']\n"
     ]
    }
   ],
   "source": [
    "print(client.all_dbs())\n",
    "\n",
    "sessionsDB = client['sessions']\n",
    "usersDB = client['users']"
   ]
  },
  {
   "cell_type": "code",
   "execution_count": 6,
   "metadata": {},
   "outputs": [],
   "source": [
    "def getSessionID(userID):\n",
    "    if userID in sessionsDB:\n",
    "        return sessionsDB[userID]['sessionID']\n",
    "    else:\n",
    "        print(\"User ID not found, creating new document\")\n",
    "        session = chatbot.new_session()\n",
    "        my_dic = {'_id':userID, 'sessionID':session, 'created_at': str(datetime.utcnow())}\n",
    "        sessionsDB.create_document(my_dic)\n",
    "        return session"
   ]
  },
  {
   "cell_type": "code",
   "execution_count": 8,
   "metadata": {},
   "outputs": [
    {
     "name": "stdout",
     "output_type": "stream",
     "text": [
      "User ID not found, creating new document\n",
      "{\n",
      "  \"session_id\": \"1ae29197-9939-42aa-ac5b-aa7c334e2dee\"\n",
      "}\n"
     ]
    },
    {
     "data": {
      "text/plain": [
       "'1ae29197-9939-42aa-ac5b-aa7c334e2dee'"
      ]
     },
     "execution_count": 8,
     "metadata": {},
     "output_type": "execute_result"
    }
   ],
   "source": [
    "getSessionID('test')"
   ]
  },
  {
   "cell_type": "code",
   "execution_count": 9,
   "metadata": {},
   "outputs": [],
   "source": [
    "def getReceiver(userID):\n",
    "    if userID in usersDB:\n",
    "        return usersDB[userID][\"receiver\"]\n",
    "    else:\n",
    "        my_dic = {'_id': userID, 'receiver':IBM_RECEIVER, 'type':'user'}\n",
    "        usersDB.create_document(my_dic)\n",
    "        return 'ibm_assistant'"
   ]
  },
  {
   "cell_type": "code",
   "execution_count": 14,
   "metadata": {},
   "outputs": [
    {
     "data": {
      "text/plain": [
       "'test'"
      ]
     },
     "execution_count": 14,
     "metadata": {},
     "output_type": "execute_result"
    }
   ],
   "source": [
    "getReceiver('test')"
   ]
  },
  {
   "cell_type": "code",
   "execution_count": 12,
   "metadata": {},
   "outputs": [],
   "source": [
    "def updateUserType(userID, type):\n",
    "    if userID in usersDB:\n",
    "        user = usersDB[userID]\n",
    "        user['type'] = type\n",
    "        user.save()\n",
    "        return True\n",
    "    return False"
   ]
  },
  {
   "cell_type": "code",
   "execution_count": 26,
   "metadata": {},
   "outputs": [
    {
     "data": {
      "text/plain": [
       "True"
      ]
     },
     "execution_count": 26,
     "metadata": {},
     "output_type": "execute_result"
    }
   ],
   "source": [
    "updateUserType('test2','doctor')"
   ]
  },
  {
   "cell_type": "code",
   "execution_count": 18,
   "metadata": {},
   "outputs": [],
   "source": [
    "def setupConnection(user1, user2):    \n",
    "    if user1 not in usersDB or user2 not in usersDB:\n",
    "        return False\n",
    "    \n",
    "    userDoc1 = usersDB[user1]\n",
    "    userDoc1['receiver'] = user2\n",
    "    userDoc1.save()\n",
    "    userDoc2 = usersDB[user2]\n",
    "    userDoc2['receiver'] = user1\n",
    "    userDoc2.save()\n",
    "    \n",
    "    return True"
   ]
  },
  {
   "cell_type": "code",
   "execution_count": 20,
   "metadata": {},
   "outputs": [
    {
     "data": {
      "text/plain": [
       "True"
      ]
     },
     "execution_count": 20,
     "metadata": {},
     "output_type": "execute_result"
    }
   ],
   "source": [
    "setupConnection('test','test2')"
   ]
  },
  {
   "cell_type": "code",
   "execution_count": 21,
   "metadata": {},
   "outputs": [],
   "source": [
    "def breakConnection(user1, user2):\n",
    "    if user1 not in usersDB or user2 not in usersDB:\n",
    "        return False\n",
    "    \n",
    "    userDoc1 = usersDB[user1]\n",
    "    userDoc1['receiver'] = IBM_RECEIVER\n",
    "    userDoc1.save()\n",
    "    userDoc2 = usersDB[user2]\n",
    "    userDoc2['receiver'] = IBM_RECEIVER\n",
    "    userDoc2.save()\n",
    "    \n",
    "    return True"
   ]
  },
  {
   "cell_type": "code",
   "execution_count": 22,
   "metadata": {},
   "outputs": [
    {
     "data": {
      "text/plain": [
       "True"
      ]
     },
     "execution_count": 22,
     "metadata": {},
     "output_type": "execute_result"
    }
   ],
   "source": [
    "breakConnection('test','test2')"
   ]
  },
  {
   "cell_type": "code",
   "execution_count": 29,
   "metadata": {},
   "outputs": [],
   "source": [
    "def findDoctor():\n",
    "    for user in usersDB:\n",
    "        if user['type'] == TYPE_DOCTOR and user['receiver'] == IBM_RECEIVER:\n",
    "            return user['_id']\n",
    "    return None"
   ]
  },
  {
   "cell_type": "code",
   "execution_count": 30,
   "metadata": {},
   "outputs": [
    {
     "name": "stdout",
     "output_type": "stream",
     "text": [
      "test2\n"
     ]
    }
   ],
   "source": [
    "print (findDoctor())"
   ]
  },
  {
   "cell_type": "code",
   "execution_count": null,
   "metadata": {},
   "outputs": [],
   "source": [
    "def findCommunity():\n",
    "    for user in usersDB:\n",
    "        if user['type'] == TYPE_COMMUNITY and user['receiver'] == IBM_RECEIVER:\n",
    "            return user['_id']\n",
    "    return None"
   ]
  },
  {
   "cell_type": "code",
   "execution_count": null,
   "metadata": {},
   "outputs": [],
   "source": []
  },
  {
   "cell_type": "code",
   "execution_count": null,
   "metadata": {},
   "outputs": [],
   "source": []
  }
 ],
 "metadata": {
  "kernelspec": {
   "display_name": "Python 3",
   "language": "python",
   "name": "python3"
  },
  "language_info": {
   "codemirror_mode": {
    "name": "ipython",
    "version": 3
   },
   "file_extension": ".py",
   "mimetype": "text/x-python",
   "name": "python",
   "nbconvert_exporter": "python",
   "pygments_lexer": "ipython3",
   "version": "3.6.8"
  }
 },
 "nbformat": 4,
 "nbformat_minor": 2
}
